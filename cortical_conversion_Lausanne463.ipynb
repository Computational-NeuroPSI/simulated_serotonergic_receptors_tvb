{
 "cells": [
  {
   "cell_type": "markdown",
   "id": "82b09859-7baa-4e5a-8797-d0c3777a07c0",
   "metadata": {},
   "source": [
    "This notebook filters the subcortical regions of Lausanne463, computes Euclidean distance and zip everything for use by TVB.\n",
    "Then 5HT2a vector's subcortical regions are also filtered out."
   ]
  },
  {
   "cell_type": "code",
   "execution_count": 8,
   "id": "00bc3c69-5a36-4da9-a5ba-39faf2d34472",
   "metadata": {},
   "outputs": [],
   "source": [
    "from scipy.io import loadmat\n",
    "import numpy as np\n",
    "import zipfile\n",
    "import os"
   ]
  },
  {
   "cell_type": "code",
   "execution_count": 4,
   "id": "367e1c3a-080a-47c7-9fb7-89dccc5644a0",
   "metadata": {},
   "outputs": [
    {
     "name": "stdout",
     "output_type": "stream",
     "text": [
      "(463, 5)\n"
     ]
    }
   ],
   "source": [
    "path = './data/connectivity/Lausanne463'\n",
    "sub = loadmat(f'{path}/Lausanne_463_subnetworks.mat')['subnetworks']\n",
    "cortical = np.where(np.isin(sub, [1,2,3,4,5,6]))[0]\n",
    "weights = loadmat(f'{path}/Lausanne463_HCP_DTI_count.mat')['connectivity']\n",
    "coords = np.loadtxt(f'{path}/Lausanne_463_MNI_coords.node')\n",
    "print(coords.shape)"
   ]
  },
  {
   "cell_type": "code",
   "execution_count": 5,
   "id": "867882c6-03c9-47a6-b7d3-e5514322717a",
   "metadata": {},
   "outputs": [],
   "source": [
    "# Filter subcortical regions and shape coordinates for TVB (with id, x, y, z for each region)\n",
    "weights_filtered = weights[cortical][:,cortical]\n",
    "coords_cort = coords[cortical,:3]\n",
    "coords_filtered = np.concatenate((np.arange(len(cortical)).reshape(-1,1), coords_cort), axis=1)"
   ]
  },
  {
   "cell_type": "code",
   "execution_count": 6,
   "id": "a16de741-841d-4c92-b99d-1ef05adee8b6",
   "metadata": {},
   "outputs": [],
   "source": [
    "# Generate tract lengths approximation using Euclidean distance\n",
    "tl = np.zeros((len(cortical),len(cortical)))\n",
    "for i in range(len(cortical)):\n",
    "    for j in range(len(cortical)):\n",
    "        tl[i,j] = np.linalg.norm(coords_filtered[i] - coords_filtered[j])"
   ]
  },
  {
   "cell_type": "code",
   "execution_count": 7,
   "id": "e8b7226f-733c-42bf-944a-f5b24ab378a0",
   "metadata": {},
   "outputs": [],
   "source": [
    "# Save each file individually\n",
    "np.savetxt(f'{path}/centers.txt', coords_filtered, fmt='%i')\n",
    "np.savetxt(f'{path}/weights.txt', weights_filtered, fmt='%f')\n",
    "np.savetxt(f'{path}/tract_lengths.txt', tl, fmt='%f')"
   ]
  },
  {
   "cell_type": "code",
   "execution_count": 10,
   "id": "f97f5a25-2e68-4f6b-a0c9-687b7beb82cf",
   "metadata": {},
   "outputs": [
    {
     "name": "stdout",
     "output_type": "stream",
     "text": [
      "Zip file created at: ./data/connectivity/Lausanne463/connectivity_cortical_Lausanne463.zip\n"
     ]
    }
   ],
   "source": [
    "# Zip files for TVB\n",
    "files = [\n",
    "    f'{path}/centers.txt',\n",
    "    f'{path}/weights.txt',\n",
    "    f'{path}/tract_lengths.txt'\n",
    "]\n",
    "zip_path = f'{path}/connectivity_cortical_Lausanne463.zip'\n",
    "\n",
    "with zipfile.ZipFile(zip_path, 'w') as zipf:\n",
    "    for file in files:\n",
    "        zipf.write(file, arcname=os.path.basename(file))\n",
    "\n",
    "print(f\"Zip file created at: {zip_path}\")"
   ]
  },
  {
   "cell_type": "code",
   "execution_count": 11,
   "id": "a80ee3b3-4892-43ea-b1be-6639b7986a0b",
   "metadata": {},
   "outputs": [],
   "source": [
    "receptors = loadmat(f'{path}/5HTvecs_ls463.mat')"
   ]
  },
  {
   "cell_type": "code",
   "execution_count": 12,
   "id": "09ddca9c-fbb1-468f-9ddb-4a71e7df6717",
   "metadata": {},
   "outputs": [],
   "source": [
    "fht2a = receptors['mean5HT2A_ls463'].flatten()[cortical]\n",
    "fht1a = receptors['mean5HT1A_ls463'].flatten()[cortical]"
   ]
  },
  {
   "cell_type": "code",
   "execution_count": 14,
   "id": "706889f5-c12c-48ba-b147-c8d852d22f5f",
   "metadata": {},
   "outputs": [],
   "source": [
    "np.savetxt(f'{path}/5HT2a_Lausanne463_cortical.txt', fht2a, fmt='%f')\n",
    "np.savetxt(f'{path}/5HT1a_Lausanne463_cortical.txt', fht1a, fmt='%f')"
   ]
  },
  {
   "cell_type": "code",
   "execution_count": null,
   "id": "d624211a-063b-46ba-b840-90fce039cbb1",
   "metadata": {},
   "outputs": [],
   "source": []
  }
 ],
 "metadata": {
  "kernelspec": {
   "display_name": "tvbrun310",
   "language": "python",
   "name": "tvbrun310"
  },
  "language_info": {
   "codemirror_mode": {
    "name": "ipython",
    "version": 3
   },
   "file_extension": ".py",
   "mimetype": "text/x-python",
   "name": "python",
   "nbconvert_exporter": "python",
   "pygments_lexer": "ipython3",
   "version": "3.10.13"
  }
 },
 "nbformat": 4,
 "nbformat_minor": 5
}
