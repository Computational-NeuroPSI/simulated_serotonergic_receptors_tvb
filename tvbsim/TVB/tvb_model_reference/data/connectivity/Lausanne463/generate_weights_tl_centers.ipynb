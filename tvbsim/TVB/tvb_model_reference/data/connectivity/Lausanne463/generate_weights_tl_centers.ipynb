{
 "cells": [
  {
   "cell_type": "code",
   "execution_count": 2,
   "id": "0dff23b4-1887-45bb-9682-77f4756bd9c2",
   "metadata": {},
   "outputs": [],
   "source": [
    "from scipy.io import loadmat\n",
    "import numpy as np"
   ]
  },
  {
   "cell_type": "code",
   "execution_count": 25,
   "id": "e44ff07c-2d6a-49ba-a5db-86255c674fff",
   "metadata": {},
   "outputs": [
    {
     "name": "stdout",
     "output_type": "stream",
     "text": [
      "(463, 5)\n"
     ]
    }
   ],
   "source": [
    "sub = loadmat('Lausanne_463_subnetworks.mat')['subnetworks']\n",
    "cortical = np.where(np.isin(sub, [1,2,3,4,5,6]))[0]\n",
    "weights = loadmat('Lausanne463_HCP_DTI_count.mat')['connectivity']\n",
    "coords = np.loadtxt('Lausanne_463_MNI_coords.node')\n",
    "print(coords.shape)"
   ]
  },
  {
   "cell_type": "code",
   "execution_count": 26,
   "id": "83f08d47-80b0-4e7b-86e0-d45e2ba99ca7",
   "metadata": {},
   "outputs": [],
   "source": [
    "weights_filtered = weights[cortical][:,cortical]\n",
    "coords_cort = coords[cortical,:3]\n",
    "coords_filtered = np.concatenate((np.arange(len(cortical)).reshape(-1,1), coords_cort), axis=1)"
   ]
  },
  {
   "cell_type": "code",
   "execution_count": 27,
   "id": "d21e4bfa-22f8-4e27-a6e3-3ea1475f9806",
   "metadata": {},
   "outputs": [],
   "source": [
    "tl = np.zeros((len(cortical),len(cortical)))\n",
    "for i in range(len(cortical)):\n",
    "    for j in range(len(cortical)):\n",
    "        tl[i,j] = np.linalg.norm(coords_filtered[i] - coords_filtered[j])"
   ]
  },
  {
   "cell_type": "code",
   "execution_count": 28,
   "id": "225936d7-fc5f-47a3-9794-4d6a9eff5e00",
   "metadata": {},
   "outputs": [],
   "source": [
    "np.savetxt('centers.txt', coords_filtered, fmt='%i')\n",
    "np.savetxt('weights.txt', weights_filtered, fmt='%f')\n",
    "np.savetxt('tract_lengths.txt', tl, fmt='%f')"
   ]
  },
  {
   "cell_type": "code",
   "execution_count": 29,
   "id": "bd6a71e3-3aa0-4ef8-9a0e-4337133f7dcc",
   "metadata": {},
   "outputs": [],
   "source": [
    "receptors = loadmat('5HTvecs_ls463.mat')"
   ]
  },
  {
   "cell_type": "code",
   "execution_count": 30,
   "id": "5ef41a37-e24e-46fe-9341-e7eb55d12c75",
   "metadata": {},
   "outputs": [],
   "source": [
    "fht2a = receptors['mean5HT2A_ls463'].flatten()[cortical]\n",
    "fht1a = receptors['mean5HT1A_ls463'].flatten()[cortical]"
   ]
  },
  {
   "cell_type": "code",
   "execution_count": 31,
   "id": "fd4eaaa8-b69a-4ee7-81fa-210659c74efe",
   "metadata": {},
   "outputs": [],
   "source": [
    "np.savetxt('5HT2A_Lausanne463_cortical.txt', fht2a, fmt='%f')\n",
    "np.savetxt('5HT1A_Lausanne463_cortical.txt', fht1a, fmt='%f')"
   ]
  },
  {
   "cell_type": "code",
   "execution_count": 1,
   "id": "46002a45-4296-4146-b86c-239a549efb95",
   "metadata": {},
   "outputs": [],
   "source": [
    "## ALL REGIONS"
   ]
  },
  {
   "cell_type": "code",
   "execution_count": 6,
   "id": "d1a92707-17bb-4a5d-aa38-9130fb50566b",
   "metadata": {},
   "outputs": [
    {
     "name": "stdout",
     "output_type": "stream",
     "text": [
      "(463, 4)\n"
     ]
    }
   ],
   "source": [
    "sub = loadmat('Lausanne_463_subnetworks.mat')['subnetworks']\n",
    "weights = loadmat('Lausanne463_HCP_DTI_count.mat')['connectivity']\n",
    "coords = np.loadtxt('Lausanne_463_MNI_coords.node')\n",
    "coords = coords[:,:3]\n",
    "coords = np.concatenate((np.arange(len(coords)).reshape(-1,1), coords), axis=1)\n",
    "print(coords.shape)\n",
    "tl = np.zeros((len(coords),len(coords)))\n",
    "for i in range(len(coords)):\n",
    "    for j in range(len(coords)):\n",
    "        tl[i,j] = np.linalg.norm(coords[i] - coords[j])\n",
    "np.savetxt('centers_full.txt', coords, fmt='%i')\n",
    "np.savetxt('weights_full.txt', weights, fmt='%f')\n",
    "np.savetxt('tract_lengths_full.txt', tl, fmt='%f')"
   ]
  },
  {
   "cell_type": "code",
   "execution_count": null,
   "id": "12ff8eab-c0b6-49fd-8c17-b789d962bf23",
   "metadata": {},
   "outputs": [],
   "source": []
  }
 ],
 "metadata": {
  "kernelspec": {
   "display_name": "tvbrun310",
   "language": "python",
   "name": "tvbrun310"
  },
  "language_info": {
   "codemirror_mode": {
    "name": "ipython",
    "version": 3
   },
   "file_extension": ".py",
   "mimetype": "text/x-python",
   "name": "python",
   "nbconvert_exporter": "python",
   "pygments_lexer": "ipython3",
   "version": "3.10.13"
  }
 },
 "nbformat": 4,
 "nbformat_minor": 5
}
